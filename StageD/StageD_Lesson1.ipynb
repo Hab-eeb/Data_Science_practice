{
  "nbformat": 4,
  "nbformat_minor": 0,
  "metadata": {
    "colab": {
      "name": "StageD_Lesson1.ipynb",
      "provenance": [],
      "authorship_tag": "ABX9TyMtBQQitBDcXrYD760PBaPe",
      "include_colab_link": true
    },
    "kernelspec": {
      "name": "python3",
      "display_name": "Python 3"
    }
  },
  "cells": [
    {
      "cell_type": "markdown",
      "metadata": {
        "id": "view-in-github",
        "colab_type": "text"
      },
      "source": [
        "<a href=\"https://colab.research.google.com/github/Hab-eeb/Data_Science_practice/blob/master/StageD/StageD_Lesson1.ipynb\" target=\"_parent\"><img src=\"https://colab.research.google.com/assets/colab-badge.svg\" alt=\"Open In Colab\"/></a>"
      ]
    },
    {
      "cell_type": "code",
      "metadata": {
        "id": "O57-G07LWVWE",
        "colab_type": "code",
        "colab": {
          "base_uri": "https://localhost:8080/",
          "height": 34
        },
        "outputId": "88f8fb73-952b-4b97-ef0d-6eed9e2b69d2"
      },
      "source": [
        "import tensorflow \n",
        "print(tensorflow.__version__)"
      ],
      "execution_count": null,
      "outputs": [
        {
          "output_type": "stream",
          "text": [
            "2.3.0\n"
          ],
          "name": "stdout"
        }
      ]
    },
    {
      "cell_type": "code",
      "metadata": {
        "id": "IFfvGHaIW7ZU",
        "colab_type": "code",
        "colab": {}
      },
      "source": [
        "import numpy as np \n",
        "import pandas as pd\n",
        "import matplotlib.pyplot as plt\n",
        "from tensorflow import keras "
      ],
      "execution_count": null,
      "outputs": []
    },
    {
      "cell_type": "code",
      "metadata": {
        "id": "dAdGsVIbXZ0N",
        "colab_type": "code",
        "colab": {}
      },
      "source": [
        "%matplotlib inline"
      ],
      "execution_count": null,
      "outputs": []
    },
    {
      "cell_type": "markdown",
      "metadata": {
        "id": "uRWuvi-oqjrl",
        "colab_type": "text"
      },
      "source": [
        "Getting Mnist dataset through sklearn then converting to dataframe"
      ]
    },
    {
      "cell_type": "code",
      "metadata": {
        "id": "VSxptVkiXjzy",
        "colab_type": "code",
        "colab": {}
      },
      "source": [
        "from sklearn.datasets import fetch_openml\n",
        "\n",
        "mnist = fetch_openml(\"mnist_784\")\n",
        "X = mnist.data\n",
        "y = mnist.target "
      ],
      "execution_count": null,
      "outputs": []
    },
    {
      "cell_type": "code",
      "metadata": {
        "id": "ky11XNicXlnE",
        "colab_type": "code",
        "colab": {}
      },
      "source": [
        "Xd = pd.DataFrame(X)\n",
        "yd = pd.DataFrame(y)"
      ],
      "execution_count": null,
      "outputs": []
    },
    {
      "cell_type": "code",
      "metadata": {
        "id": "DneV1hnpctI_",
        "colab_type": "code",
        "colab": {}
      },
      "source": [
        "mnist"
      ],
      "execution_count": null,
      "outputs": []
    },
    {
      "cell_type": "markdown",
      "metadata": {
        "id": "5-UCnXqbqxTl",
        "colab_type": "text"
      },
      "source": [
        "Getting MNIST dataset from keras  "
      ]
    },
    {
      "cell_type": "code",
      "metadata": {
        "id": "RpinhEtJcvRi",
        "colab_type": "code",
        "colab": {
          "base_uri": "https://localhost:8080/",
          "height": 51
        },
        "outputId": "022e7640-c78b-47d8-e9f3-0e5e40304808"
      },
      "source": [
        "mnist_K = keras.datasets.mnist \n",
        "(train_images,train_labels),(test_images,test_labels) = mnist_K.load_data() "
      ],
      "execution_count": null,
      "outputs": [
        {
          "output_type": "stream",
          "text": [
            "Downloading data from https://storage.googleapis.com/tensorflow/tf-keras-datasets/mnist.npz\n",
            "11493376/11490434 [==============================] - 0s 0us/step\n"
          ],
          "name": "stdout"
        }
      ]
    },
    {
      "cell_type": "code",
      "metadata": {
        "id": "2ugsbBNli7cJ",
        "colab_type": "code",
        "colab": {
          "base_uri": "https://localhost:8080/",
          "height": 34
        },
        "outputId": "1a28d8d5-966e-4279-fc30-ee20aed8d0c8"
      },
      "source": [
        "train_images.shape"
      ],
      "execution_count": null,
      "outputs": [
        {
          "output_type": "execute_result",
          "data": {
            "text/plain": [
              "(60000, 28, 28)"
            ]
          },
          "metadata": {
            "tags": []
          },
          "execution_count": 59
        }
      ]
    },
    {
      "cell_type": "code",
      "metadata": {
        "id": "XJbfe5wkjagd",
        "colab_type": "code",
        "colab": {
          "base_uri": "https://localhost:8080/",
          "height": 34
        },
        "outputId": "578f9fcb-398c-4918-b855-fc828a73d4a2"
      },
      "source": [
        "train_images.dtype"
      ],
      "execution_count": null,
      "outputs": [
        {
          "output_type": "execute_result",
          "data": {
            "text/plain": [
              "dtype('uint8')"
            ]
          },
          "metadata": {
            "tags": []
          },
          "execution_count": 20
        }
      ]
    },
    {
      "cell_type": "code",
      "metadata": {
        "id": "FAcQ1-ZAjtLZ",
        "colab_type": "code",
        "colab": {
          "base_uri": "https://localhost:8080/",
          "height": 34
        },
        "outputId": "acc70096-4d04-4aa7-b308-be7c3479697c"
      },
      "source": [
        "train_labels.shape"
      ],
      "execution_count": null,
      "outputs": [
        {
          "output_type": "execute_result",
          "data": {
            "text/plain": [
              "(60000,)"
            ]
          },
          "metadata": {
            "tags": []
          },
          "execution_count": 22
        }
      ]
    },
    {
      "cell_type": "code",
      "metadata": {
        "id": "wWLp20x9j4uf",
        "colab_type": "code",
        "colab": {
          "base_uri": "https://localhost:8080/",
          "height": 34
        },
        "outputId": "caf846ed-dea6-4c1c-ed52-86dc0aac1b81"
      },
      "source": [
        "class_labels = np.unique(train_labels)\n",
        "print(\"The MNIST data set has {} labels, they are {}\" .format(len(class_labels), (class_labels)))"
      ],
      "execution_count": null,
      "outputs": [
        {
          "output_type": "stream",
          "text": [
            "The MNIST data set has 10 labels, they are [0 1 2 3 4 5 6 7 8 9]\n"
          ],
          "name": "stdout"
        }
      ]
    },
    {
      "cell_type": "code",
      "metadata": {
        "id": "bONcpDDGkp9i",
        "colab_type": "code",
        "colab": {
          "base_uri": "https://localhost:8080/",
          "height": 336
        },
        "outputId": "d3068454-8c26-4ed9-ca23-9eff77a6c18e"
      },
      "source": [
        "plt.figure(figsize=(8,5))\n",
        "\n",
        "plt.imshow(train_images[36000])\n",
        "plt.title(\"Label: {}\".format(train_labels[36000]))\n",
        "plt.show()"
      ],
      "execution_count": null,
      "outputs": [
        {
          "output_type": "display_data",
          "data": {
            "image/png": "[encoded data removed]",
            "text/plain": [
              "<Figure size 576x360 with 1 Axes>"
            ]
          },
          "metadata": {
            "tags": [],
            "needs_background": "light"
          }
        }
      ]
    },
    {
      "cell_type": "code",
      "metadata": {
        "id": "jdC96pDElttM",
        "colab_type": "code",
        "colab": {
          "base_uri": "https://localhost:8080/",
          "height": 281
        },
        "outputId": "f7377f45-cd3a-477c-b7a3-b2d10a2eb07b"
      },
      "source": [
        "some_num = X[36000]\n",
        "shaped_some_num = some_num.reshape(28,28)\n",
        "\n",
        "plt.imshow(shaped_some_num)\n",
        "plt.title(\"Label: {}\".format(y[36000]))\n",
        "plt.show()"
      ],
      "execution_count": null,
      "outputs": [
        {
          "output_type": "display_data",
          "data": {
            "image/png": "[encoded data removed]",
            "text/plain": [
              "<Figure size 432x288 with 1 Axes>"
            ]
          },
          "metadata": {
            "tags": [],
            "needs_background": "light"
          }
        }
      ]
    },
    {
      "cell_type": "markdown",
      "metadata": {
        "id": "KCXEbCQqrDFf",
        "colab_type": "text"
      },
      "source": [
        "Scaling the training set from o to 255 to 0 to 1\n"
      ]
    },
    {
      "cell_type": "code",
      "metadata": {
        "id": "lQ39VcofpEVY",
        "colab_type": "code",
        "colab": {}
      },
      "source": [
        "train_images = train_images / 255\n",
        "test_images = test_images / 255"
      ],
      "execution_count": null,
      "outputs": []
    },
    {
      "cell_type": "markdown",
      "metadata": {
        "id": "U-22yoXHqX85",
        "colab_type": "text"
      },
      "source": [
        "Splitting Training into training and validation"
      ]
    },
    {
      "cell_type": "code",
      "metadata": {
        "id": "OiRpV8Y2qcav",
        "colab_type": "code",
        "colab": {}
      },
      "source": [
        "train_images , val_images = train_images[:50000],train_images[50000:]\n",
        "train_labels , val_labels = train_labels[:50000],train_labels[50000:]\n"
      ],
      "execution_count": null,
      "outputs": []
    },
    {
      "cell_type": "code",
      "metadata": {
        "id": "YPSa0lYErwbQ",
        "colab_type": "code",
        "colab": {
          "base_uri": "https://localhost:8080/",
          "height": 34
        },
        "outputId": "982dec05-46a0-47bc-98e9-ced017f489bc"
      },
      "source": [
        "train_labels.shape"
      ],
      "execution_count": null,
      "outputs": [
        {
          "output_type": "execute_result",
          "data": {
            "text/plain": [
              "(50000,)"
            ]
          },
          "metadata": {
            "tags": []
          },
          "execution_count": 46
        }
      ]
    },
    {
      "cell_type": "code",
      "metadata": {
        "id": "PZbVxH-VrzE8",
        "colab_type": "code",
        "colab": {
          "base_uri": "https://localhost:8080/",
          "height": 34
        },
        "outputId": "05071f4b-bd7d-40e8-9885-f2a16395ba68"
      },
      "source": [
        "val_images.shape"
      ],
      "execution_count": null,
      "outputs": [
        {
          "output_type": "execute_result",
          "data": {
            "text/plain": [
              "(10000, 28, 28)"
            ]
          },
          "metadata": {
            "tags": []
          },
          "execution_count": 62
        }
      ]
    },
    {
      "cell_type": "markdown",
      "metadata": {
        "id": "uRqpZpcgvoJR",
        "colab_type": "text"
      },
      "source": [
        "Converting the image array from 28x28 to a single array\n"
      ]
    },
    {
      "cell_type": "code",
      "metadata": {
        "id": "WrpfgUqdr1Zz",
        "colab_type": "code",
        "colab": {
          "base_uri": "https://localhost:8080/",
          "height": 34
        },
        "outputId": "ecc0e32d-e463-4c93-9a96-e643827c54b1"
      },
      "source": [
        "new_dimension = np.prod(train_images.shape[1:])\n",
        "new_dimension"
      ],
      "execution_count": null,
      "outputs": [
        {
          "output_type": "execute_result",
          "data": {
            "text/plain": [
              "784"
            ]
          },
          "metadata": {
            "tags": []
          },
          "execution_count": 6
        }
      ]
    },
    {
      "cell_type": "code",
      "metadata": {
        "id": "8GoZafSktPk7",
        "colab_type": "code",
        "colab": {}
      },
      "source": [
        "train_images = train_images.reshape(train_images.shape[0],new_dimension)\n",
        "test_images = test_images.reshape(test_images.shape[0],new_dimension)\n",
        "val_images = val_images.reshape(val_images.shape[0],new_dimension)\n"
      ],
      "execution_count": null,
      "outputs": []
    },
    {
      "cell_type": "code",
      "metadata": {
        "id": "yr44b7qNtaLT",
        "colab_type": "code",
        "colab": {
          "base_uri": "https://localhost:8080/",
          "height": 34
        },
        "outputId": "3f2b73b2-b425-4f6e-df84-c3dfc3ce993a"
      },
      "source": [
        "val_images.shape"
      ],
      "execution_count": null,
      "outputs": [
        {
          "output_type": "execute_result",
          "data": {
            "text/plain": [
              "(10000, 784)"
            ]
          },
          "metadata": {
            "tags": []
          },
          "execution_count": 12
        }
      ]
    },
    {
      "cell_type": "code",
      "metadata": {
        "id": "J2MxCZOrtfA1",
        "colab_type": "code",
        "colab": {
          "base_uri": "https://localhost:8080/",
          "height": 34
        },
        "outputId": "8db3f8b2-5946-41e2-fb49-4e53c2530f36"
      },
      "source": [
        "test_images.shape"
      ],
      "execution_count": null,
      "outputs": [
        {
          "output_type": "execute_result",
          "data": {
            "text/plain": [
              "(10000, 784)"
            ]
          },
          "metadata": {
            "tags": []
          },
          "execution_count": 13
        }
      ]
    },
    {
      "cell_type": "code",
      "metadata": {
        "id": "TyvbACe4w5oO",
        "colab_type": "code",
        "colab": {
          "base_uri": "https://localhost:8080/",
          "height": 34
        },
        "outputId": "f60f1bd6-6053-4c1e-bf38-e1fa9d5cca95"
      },
      "source": [
        "train_images.shape"
      ],
      "execution_count": null,
      "outputs": [
        {
          "output_type": "execute_result",
          "data": {
            "text/plain": [
              "(50000, 784)"
            ]
          },
          "metadata": {
            "tags": []
          },
          "execution_count": 14
        }
      ]
    },
    {
      "cell_type": "markdown",
      "metadata": {
        "id": "yoUaSeWsyjFR",
        "colab_type": "text"
      },
      "source": [
        "Converting the labels to binary encoding\n"
      ]
    },
    {
      "cell_type": "code",
      "metadata": {
        "id": "Z8ZqFwF4w9vO",
        "colab_type": "code",
        "colab": {}
      },
      "source": [
        "from tensorflow.keras.utils import to_categorical \n",
        "nos_labels = 10\n",
        "train_labels = to_categorical(train_labels,nos_labels)\n",
        "val_labels = to_categorical(val_labels,nos_labels)\n",
        "test_labels = to_categorical(test_labels,nos_labels)"
      ],
      "execution_count": null,
      "outputs": []
    },
    {
      "cell_type": "code",
      "metadata": {
        "id": "pjwYVy2wzvJu",
        "colab_type": "code",
        "colab": {
          "base_uri": "https://localhost:8080/",
          "height": 136
        },
        "outputId": "09b268dc-c2c4-47a8-a67e-54b0f7badfea"
      },
      "source": [
        "val_labels"
      ],
      "execution_count": null,
      "outputs": [
        {
          "output_type": "execute_result",
          "data": {
            "text/plain": [
              "array([[0., 0., 0., ..., 0., 0., 0.],\n",
              "       [0., 0., 0., ..., 0., 1., 0.],\n",
              "       [0., 0., 0., ..., 0., 0., 0.],\n",
              "       ...,\n",
              "       [0., 0., 0., ..., 0., 0., 0.],\n",
              "       [0., 0., 0., ..., 0., 0., 0.],\n",
              "       [0., 0., 0., ..., 0., 1., 0.]], dtype=float32)"
            ]
          },
          "metadata": {
            "tags": []
          },
          "execution_count": 67
        }
      ]
    },
    {
      "cell_type": "markdown",
      "metadata": {
        "id": "b4ugVrni0hqz",
        "colab_type": "text"
      },
      "source": [
        "Construction phase of the multilayer perceptron\n"
      ]
    },
    {
      "cell_type": "code",
      "metadata": {
        "id": "ligRvidIzxql",
        "colab_type": "code",
        "colab": {
          "base_uri": "https://localhost:8080/",
          "height": 68
        },
        "outputId": "4452af98-3f3c-44c6-8b02-84be2f29707a"
      },
      "source": [
        "import tensorflow.compat.v1 as tf\n",
        "tf.disable_v2_behavior()\n",
        "X = tf.placeholder(tf.float32, [None,new_dimension])\n",
        "Y = tf.placeholder(tf.float32,[None,nos_labels]) "
      ],
      "execution_count": null,
      "outputs": [
        {
          "output_type": "stream",
          "text": [
            "WARNING:tensorflow:From /usr/local/lib/python3.6/dist-packages/tensorflow/python/compat/v2_compat.py:96: disable_resource_variables (from tensorflow.python.ops.variable_scope) is deprecated and will be removed in a future version.\n",
            "Instructions for updating:\n",
            "non-resource variables are not supported in the long term\n"
          ],
          "name": "stdout"
        }
      ]
    },
    {
      "cell_type": "code",
      "metadata": {
        "id": "bQXk5yKArCoU",
        "colab_type": "code",
        "colab": {}
      },
      "source": [
        "def multilayer_perceptron(X,no_classes, first_layer_neurons=256, second_layer_neurons=128):\n",
        "  #first layer\n",
        "  first_weights = tf.Variable(tf.random_uniform([new_dimension,first_layer_neurons]))\n",
        "  first_bias = tf.Variable(tf.zeros([first_layer_neurons]))\n",
        "  first_layer_output = tf.nn.relu(tf.add(tf.matmul(X,first_weights),first_bias))\n",
        "\n",
        "  #second layer \n",
        "  second_weights =tf.Variable(tf.random_uniform([first_layer_neurons,second_layer_neurons]))\n",
        "  second_bias = tf.Variable(tf.zeros([second_layer_neurons]))\n",
        "  second_layer_output = tf.nn.relu(tf.add(tf.matmul(first_layer_output,second_weights),second_bias))\n",
        "\n",
        "  #output layer \n",
        "  final_weights = tf.Variable(tf.random_uniform([second_layer_neurons,no_classes]))\n",
        "  final_bias = tf.Variable(tf.zeros([no_classes]))\n",
        "  logits = tf.add(tf.matmul(second_layer_output,final_weights),final_bias)\n",
        "\n",
        "  return logits\n",
        "\n"
      ],
      "execution_count": null,
      "outputs": []
    },
    {
      "cell_type": "markdown",
      "metadata": {
        "id": "Ayn-lJtL6cBM",
        "colab_type": "text"
      },
      "source": [
        "Define the cost function and optimizer\n"
      ]
    },
    {
      "cell_type": "code",
      "metadata": {
        "id": "rGqVCTKL52Z9",
        "colab_type": "code",
        "colab": {
          "base_uri": "https://localhost:8080/",
          "height": 153
        },
        "outputId": "8d23b6bf-ba1d-4ba0-f78a-b5ac01d7cbf0"
      },
      "source": [
        "logits = multilayer_perceptron(X,nos_labels)\n",
        "\n",
        "learning_rate = 0.01 \n",
        "\n",
        "loss_op = tf.reduce_mean(tf.nn.softmax_cross_entropy_with_logits(logits=logits,labels=Y))\n",
        "optimiser = tf.train.AdamOptimizer(learning_rate=learning_rate)\n",
        "train_op = optimiser.minimize(loss_op)"
      ],
      "execution_count": null,
      "outputs": [
        {
          "output_type": "stream",
          "text": [
            "WARNING:tensorflow:From /usr/local/lib/python3.6/dist-packages/tensorflow/python/util/dispatch.py:201: softmax_cross_entropy_with_logits (from tensorflow.python.ops.nn_ops) is deprecated and will be removed in a future version.\n",
            "Instructions for updating:\n",
            "\n",
            "Future major versions of TensorFlow will allow gradients to flow\n",
            "into the labels input on backprop by default.\n",
            "\n",
            "See `tf.nn.softmax_cross_entropy_with_logits_v2`.\n",
            "\n"
          ],
          "name": "stdout"
        }
      ]
    },
    {
      "cell_type": "code",
      "metadata": {
        "id": "8mjDDTJduflp",
        "colab_type": "code",
        "colab": {}
      },
      "source": [
        "optimiserG = tf.train.GradientDescentOptimizer(learning_rate=learning_rate)\n",
        "train_opp = optimiserG.minimize(loss_op)"
      ],
      "execution_count": null,
      "outputs": []
    },
    {
      "cell_type": "markdown",
      "metadata": {
        "id": "wAaYFh4VFLYQ",
        "colab_type": "text"
      },
      "source": [
        "Execution phase by initializing the variables and creationg a session to feed the values to the placeholders and then train the model\n"
      ]
    },
    {
      "cell_type": "code",
      "metadata": {
        "id": "tCN5L2To-bnR",
        "colab_type": "code",
        "colab": {
          "base_uri": "https://localhost:8080/",
          "height": 374
        },
        "outputId": "ec81bd97-2bd4-4c7b-c839-acbbce2fcbbd"
      },
      "source": [
        "init = tf.global_variables_initializer()\n",
        "saver =tf.train.Saver()\n",
        "\n",
        "epochs =20 \n",
        "batch_size = 1000\n",
        "iteration = len(train_images)/batch_size\n",
        "\n",
        "#Training the model\n",
        "\n",
        "with tf.Session() as sess:\n",
        "  sess.run(init)\n",
        "  for epoch in range(epochs):\n",
        "\n",
        "    average_cost =0\n",
        "    start,end = 0, batch_size \n",
        "\n",
        "    for i in range(int(iteration)):\n",
        "      batch_x,batch_y = train_images[start:end],train_labels[start:end]\n",
        "      _,loss = sess.run([train_op,loss_op], feed_dict={X:batch_x,Y:batch_y})\n",
        "      start += batch_size\n",
        "      end   += batch_size \n",
        "\n",
        "      average_cost += loss/iteration\n",
        "    print(\"Epoch =========={}\".format(epoch))\n",
        "\n",
        "  #Evaluation of the model \n",
        "  prediction = tf.nn.softmax(logits)\n",
        "  ground_truth = tf.equal(tf.argmax(prediction,1),tf.argmax(Y,1))\n",
        "  accuracy = tf.reduce_mean(tf.cast(ground_truth,\"float\"))\n",
        "\n",
        "  print(\"Accuracy: {}\".format(accuracy.eval(feed_dict={X:test_images,Y:test_labels})))\n",
        "\n"
      ],
      "execution_count": null,
      "outputs": [
        {
          "output_type": "stream",
          "text": [
            "Epoch ==========0\n",
            "Epoch ==========1\n",
            "Epoch ==========2\n",
            "Epoch ==========3\n",
            "Epoch ==========4\n",
            "Epoch ==========5\n",
            "Epoch ==========6\n",
            "Epoch ==========7\n",
            "Epoch ==========8\n",
            "Epoch ==========9\n",
            "Epoch ==========10\n",
            "Epoch ==========11\n",
            "Epoch ==========12\n",
            "Epoch ==========13\n",
            "Epoch ==========14\n",
            "Epoch ==========15\n",
            "Epoch ==========16\n",
            "Epoch ==========17\n",
            "Epoch ==========18\n",
            "Epoch ==========19\n",
            "Accuracy: 0.8950999975204468\n"
          ],
          "name": "stdout"
        }
      ]
    },
    {
      "cell_type": "code",
      "metadata": {
        "id": "k5gnqM5-HYhH",
        "colab_type": "code",
        "colab": {
          "base_uri": "https://localhost:8080/",
          "height": 391
        },
        "outputId": "03041843-ec43-4b04-9ec9-020fe33543ca"
      },
      "source": [
        "init = tf.global_variables_initializer()\n",
        "saver =tf.train.Saver()\n",
        "\n",
        "epochs =21\n",
        "batch_size = 1000\n",
        "iteration = len(train_images)/batch_size\n",
        "\n",
        "#Training the model\n",
        "\n",
        "with tf.Session() as sess:\n",
        "  sess.run(init)\n",
        "  for epoch in range(epochs):\n",
        "\n",
        "    average_cost =0\n",
        "    start,end = 0, batch_size \n",
        "\n",
        "    for i in range(int(iteration)):\n",
        "      batch_x,batch_y = train_images[start:end],train_labels[start:end]\n",
        "      _,loss = sess.run([train_opp,loss_op], feed_dict={X:batch_x,Y:batch_y})\n",
        "      start += batch_size\n",
        "      end   += batch_size \n",
        "\n",
        "      average_cost += loss/iteration\n",
        "    print(\"Epoch =========={}\".format(epoch))\n",
        "\n",
        "  #Evaluation of the model \n",
        "  prediction = tf.nn.softmax(logits)\n",
        "  ground_truth = tf.equal(tf.argmax(prediction,1),tf.argmax(Y,1))\n",
        "  accuracy = tf.reduce_mean(tf.cast(ground_truth,\"float\"))\n",
        "\n",
        "  print(\"Accuracy: {}\".format(accuracy.eval(feed_dict={X:test_images,Y:test_labels})))\n"
      ],
      "execution_count": null,
      "outputs": [
        {
          "output_type": "stream",
          "text": [
            "Epoch ==========0\n",
            "Epoch ==========1\n",
            "Epoch ==========2\n",
            "Epoch ==========3\n",
            "Epoch ==========4\n",
            "Epoch ==========5\n",
            "Epoch ==========6\n",
            "Epoch ==========7\n",
            "Epoch ==========8\n",
            "Epoch ==========9\n",
            "Epoch ==========10\n",
            "Epoch ==========11\n",
            "Epoch ==========12\n",
            "Epoch ==========13\n",
            "Epoch ==========14\n",
            "Epoch ==========15\n",
            "Epoch ==========16\n",
            "Epoch ==========17\n",
            "Epoch ==========18\n",
            "Epoch ==========19\n",
            "Epoch ==========20\n",
            "Accuracy: 0.11349999904632568\n"
          ],
          "name": "stdout"
        }
      ]
    },
    {
      "cell_type": "code",
      "metadata": {
        "id": "iNJiTU-MHbbt",
        "colab_type": "code",
        "colab": {}
      },
      "source": [
        ""
      ],
      "execution_count": null,
      "outputs": []
    },
    {
      "cell_type": "code",
      "metadata": {
        "colab_type": "code",
        "id": "Sy0i2TidwXlC",
        "colab": {
          "base_uri": "https://localhost:8080/",
          "height": 374
        },
        "outputId": "4daff13f-57de-486d-a4c4-519fc74ee9cc"
      },
      "source": [
        "init = tf.global_variables_initializer()\n",
        "saver =tf.train.Saver()\n",
        "\n",
        "epochs =20 \n",
        "batch_size = 1000\n",
        "iteration = len(train_images)/batch_size\n",
        "\n",
        "#Training the model\n",
        "\n",
        "with tf.Session() as sess:\n",
        "  sess.run(init)\n",
        "  for epoch in range(epochs):\n",
        "\n",
        "    average_cost =0\n",
        "    start,end = 0, batch_size \n",
        "\n",
        "    for i in range(int(iteration)):\n",
        "      batch_x,batch_y = train_images[start:end],train_labels[start:end]\n",
        "      _ = sess.run(train_op, feed_dict={X:batch_x,Y:batch_y})\n",
        "      start += batch_size\n",
        "      end   += batch_size \n",
        "\n",
        "      average_cost += loss/iteration\n",
        "    print(\"Epoch =========={}\".format(epoch))\n",
        "\n",
        "  #Evaluation of the model \n",
        "  prediction = tf.nn.softmax(logits)\n",
        "  ground_truth = tf.equal(tf.argmax(prediction,1),tf.argmax(Y,1))\n",
        "  accuracy = tf.reduce_mean(tf.cast(ground_truth,\"float\"))\n",
        "\n",
        "  print(\"Accuracy: {}\".format(accuracy.eval(feed_dict={X:test_images,Y:test_labels})))\n",
        "\n"
      ],
      "execution_count": null,
      "outputs": [
        {
          "output_type": "stream",
          "text": [
            "Epoch ==========0\n",
            "Epoch ==========1\n",
            "Epoch ==========2\n",
            "Epoch ==========3\n",
            "Epoch ==========4\n",
            "Epoch ==========5\n",
            "Epoch ==========6\n",
            "Epoch ==========7\n",
            "Epoch ==========8\n",
            "Epoch ==========9\n",
            "Epoch ==========10\n",
            "Epoch ==========11\n",
            "Epoch ==========12\n",
            "Epoch ==========13\n",
            "Epoch ==========14\n",
            "Epoch ==========15\n",
            "Epoch ==========16\n",
            "Epoch ==========17\n",
            "Epoch ==========18\n",
            "Epoch ==========19\n",
            "Accuracy: 0.9089999794960022\n"
          ],
          "name": "stdout"
        }
      ]
    },
    {
      "cell_type": "code",
      "metadata": {
        "id": "5OIYOKP00nYa",
        "colab_type": "code",
        "colab": {
          "base_uri": "https://localhost:8080/",
          "height": 34
        },
        "outputId": "ea9394da-19c7-41a6-eba6-624b9858b022"
      },
      "source": [
        "average_cost"
      ],
      "execution_count": null,
      "outputs": [
        {
          "output_type": "execute_result",
          "data": {
            "text/plain": [
              "5.986590862274174"
            ]
          },
          "metadata": {
            "tags": []
          },
          "execution_count": 20
        }
      ]
    },
    {
      "cell_type": "code",
      "metadata": {
        "id": "EOuCAkVI0o2n",
        "colab_type": "code",
        "colab": {}
      },
      "source": [
        ""
      ],
      "execution_count": null,
      "outputs": []
    }
  ]
}