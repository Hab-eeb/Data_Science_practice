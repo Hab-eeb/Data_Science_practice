{
  "nbformat": 4,
  "nbformat_minor": 0,
  "metadata": {
    "colab": {
      "name": "Lesson_2.ipynb",
      "provenance": [],
      "mount_file_id": "1nGCsS-7g6mWBJLNP7Qu_djSd_OOkecQm",
      "authorship_tag": "ABX9TyM7DoRcDwvQVC3Dk/tD5ENz",
      "include_colab_link": true
    },
    "kernelspec": {
      "name": "python3",
      "display_name": "Python 3"
    }
  },
  "cells": [
    {
      "cell_type": "markdown",
      "metadata": {
        "id": "view-in-github",
        "colab_type": "text"
      },
      "source": [
        "<a href=\"https://colab.research.google.com/github/Hab-eeb/Data_Science_practice/blob/master/regularization%20with%20dropout.ipynb\" target=\"_parent\"><img src=\"https://colab.research.google.com/assets/colab-badge.svg\" alt=\"Open In Colab\"/></a>"
      ]
    },
    {
      "cell_type": "code",
      "metadata": {
        "id": "v-hW1OBHjqEH",
        "colab_type": "code",
        "colab": {}
      },
      "source": [
        "import numpy as np \n",
        "import pandas as pd\n",
        "import matplotlib.pyplot as plt\n",
        "from tensorflow import keras"
      ],
      "execution_count": 2,
      "outputs": []
    },
    {
      "cell_type": "code",
      "metadata": {
        "id": "5wI0_1iB5NTL",
        "colab_type": "code",
        "colab": {
          "base_uri": "https://localhost:8080/",
          "height": 68
        },
        "outputId": "a277cb35-4603-453c-ecb0-17ad3248b1a0"
      },
      "source": [
        "import os\n",
        "import tensorflow.compat.v1 as tf\n",
        "tf.disable_v2_behavior()"
      ],
      "execution_count": 3,
      "outputs": [
        {
          "output_type": "stream",
          "text": [
            "WARNING:tensorflow:From /usr/local/lib/python3.6/dist-packages/tensorflow/python/compat/v2_compat.py:96: disable_resource_variables (from tensorflow.python.ops.variable_scope) is deprecated and will be removed in a future version.\n",
            "Instructions for updating:\n",
            "non-resource variables are not supported in the long term\n"
          ],
          "name": "stdout"
        }
      ]
    },
    {
      "cell_type": "code",
      "metadata": {
        "id": "BKuD6MkI4xd5",
        "colab_type": "code",
        "colab": {}
      },
      "source": [
        "%matplotlib inline"
      ],
      "execution_count": 4,
      "outputs": []
    },
    {
      "cell_type": "markdown",
      "metadata": {
        "id": "6Nm2kKg8wzkG",
        "colab_type": "text"
      },
      "source": [
        "Importing of the MNIST dataset "
      ]
    },
    {
      "cell_type": "code",
      "metadata": {
        "id": "-2bkmbLU416S",
        "colab_type": "code",
        "colab": {}
      },
      "source": [
        " mnist_K = keras.datasets.mnist \n",
        " (train_images,train_labels),(test_images,test_labels) = mnist_K.load_data() \n",
        "\n",
        "train_image =train_images\n",
        "train_label = train_labels\n",
        "test_image = test_images\n",
        "test_label = test_labels\n"
      ],
      "execution_count": 151,
      "outputs": []
    },
    {
      "cell_type": "markdown",
      "metadata": {
        "id": "XLDMgci-wkPa",
        "colab_type": "text"
      },
      "source": [
        "Mounted google drive and checked the contents so i can save my model for later use or refrence"
      ]
    },
    {
      "cell_type": "code",
      "metadata": {
        "id": "MeJ1e_tg46vY",
        "colab_type": "code",
        "colab": {
          "base_uri": "https://localhost:8080/",
          "height": 136
        },
        "outputId": "f1f0237b-6598-489d-bf21-fba282b2393b"
      },
      "source": [
        "!ls \"/content/drive/My Drive/Colab Notebooks\""
      ],
      "execution_count": 49,
      "outputs": [
        {
          "output_type": "stream",
          "text": [
            " checkpoint\t\t\t    save.data-00000-of-00001\n",
            "'Copy of for_the_people.ipynb'\t    save.index\n",
            "'Copy of save_and_load.ipynb'\t    saves\n",
            "'Copy of saved_model.ipynb'\t    saves.data-00000-of-00001\n",
            "'Copy of TensorPrac.ipynb'\t    saves.index\n",
            "'Copy of Welcome To Colaboratory'   StageD_Lesson1.ipynb\n",
            " Lesson_2.ipynb\t\t\t    TensorPrac.ipynb\n"
          ],
          "name": "stdout"
        }
      ]
    },
    {
      "cell_type": "code",
      "metadata": {
        "id": "9nTXusmItvVo",
        "colab_type": "code",
        "colab": {
          "base_uri": "https://localhost:8080/",
          "height": 34
        },
        "outputId": "fa8a699f-0ef8-4d88-82c5-48b6b93f558d"
      },
      "source": [
        "!ls \"/content/drive/My Drive/Colab Notebooks/saves\""
      ],
      "execution_count": 53,
      "outputs": [
        {
          "output_type": "stream",
          "text": [
            "checkpoint  stageD1_keras.data-00000-of-00001  stageD1_keras.index\n"
          ],
          "name": "stdout"
        }
      ]
    },
    {
      "cell_type": "code",
      "metadata": {
        "id": "CuivjY84uEck",
        "colab_type": "code",
        "colab": {
          "base_uri": "https://localhost:8080/",
          "height": 34
        },
        "outputId": "4f8e3c31-32ce-4e13-d85d-fa7c6c36d40a"
      },
      "source": [
        "train_image.shape"
      ],
      "execution_count": 8,
      "outputs": [
        {
          "output_type": "execute_result",
          "data": {
            "text/plain": [
              "(60000, 28, 28)"
            ]
          },
          "metadata": {
            "tags": []
          },
          "execution_count": 8
        }
      ]
    },
    {
      "cell_type": "markdown",
      "metadata": {
        "id": "hSrHKQ5Yw7Et",
        "colab_type": "text"
      },
      "source": [
        "Reshaping the dataset from a 28x28 matrix to 2d array for easy training"
      ]
    },
    {
      "cell_type": "code",
      "metadata": {
        "id": "Mx-wwuf_uK-M",
        "colab_type": "code",
        "colab": {}
      },
      "source": [
        "train_images_2d = train_image.reshape(-1,28*28) \n",
        "test_images_2d =test_image.reshape(-1,28*28) "
      ],
      "execution_count": 152,
      "outputs": []
    },
    {
      "cell_type": "code",
      "metadata": {
        "id": "_GFv-Gslu57F",
        "colab_type": "code",
        "colab": {
          "base_uri": "https://localhost:8080/",
          "height": 34
        },
        "outputId": "3492f351-dcc6-42fe-f192-b3a5441728d1"
      },
      "source": [
        "train_images_2d.shape"
      ],
      "execution_count": 21,
      "outputs": [
        {
          "output_type": "execute_result",
          "data": {
            "text/plain": [
              "(60000, 784)"
            ]
          },
          "metadata": {
            "tags": []
          },
          "execution_count": 21
        }
      ]
    },
    {
      "cell_type": "code",
      "metadata": {
        "id": "nwTFhuvmu9QM",
        "colab_type": "code",
        "colab": {
          "base_uri": "https://localhost:8080/",
          "height": 34
        },
        "outputId": "874c3a35-f838-4f12-ebc7-bcddd21d9c3f"
      },
      "source": [
        "train_labels.shape"
      ],
      "execution_count": 12,
      "outputs": [
        {
          "output_type": "execute_result",
          "data": {
            "text/plain": [
              "(60000,)"
            ]
          },
          "metadata": {
            "tags": []
          },
          "execution_count": 12
        }
      ]
    },
    {
      "cell_type": "markdown",
      "metadata": {
        "id": "VqYqPNyBxNqW",
        "colab_type": "text"
      },
      "source": [
        "Scaling the images to 0-1, dividing by 255 because the features range from 0 -255"
      ]
    },
    {
      "cell_type": "code",
      "metadata": {
        "id": "VFBf5hCfv_S7",
        "colab_type": "code",
        "colab": {}
      },
      "source": [
        "train_images_2d = train_images_2d / 255 \n",
        "test_image = test_images_2d / 255 "
      ],
      "execution_count": 153,
      "outputs": []
    },
    {
      "cell_type": "markdown",
      "metadata": {
        "id": "ZqK6D4KCy0lO",
        "colab_type": "text"
      },
      "source": [
        "Splitting the training set furher into train and validation sets"
      ]
    },
    {
      "cell_type": "code",
      "metadata": {
        "id": "GsEo5AAiwcHI",
        "colab_type": "code",
        "colab": {}
      },
      "source": [
        "image_train, image_val = train_images_2d[:50000],train_images_2d[50000:]\n",
        "label_train, label_val = train_label[:50000],train_label[50000:]"
      ],
      "execution_count": 154,
      "outputs": []
    },
    {
      "cell_type": "code",
      "metadata": {
        "id": "DDtkLAliyepP",
        "colab_type": "code",
        "colab": {
          "base_uri": "https://localhost:8080/",
          "height": 34
        },
        "outputId": "8aeed523-62a0-424f-f268-9ce72fd5082c"
      },
      "source": [
        "image_train.shape"
      ],
      "execution_count": 15,
      "outputs": [
        {
          "output_type": "execute_result",
          "data": {
            "text/plain": [
              "(50000, 784)"
            ]
          },
          "metadata": {
            "tags": []
          },
          "execution_count": 15
        }
      ]
    },
    {
      "cell_type": "code",
      "metadata": {
        "id": "Ql5LidQ4yvmE",
        "colab_type": "code",
        "colab": {
          "base_uri": "https://localhost:8080/",
          "height": 34
        },
        "outputId": "577347fa-e34a-42b0-9080-334ed3e986cc"
      },
      "source": [
        "label_val.shape"
      ],
      "execution_count": 16,
      "outputs": [
        {
          "output_type": "execute_result",
          "data": {
            "text/plain": [
              "(10000,)"
            ]
          },
          "metadata": {
            "tags": []
          },
          "execution_count": 16
        }
      ]
    },
    {
      "cell_type": "markdown",
      "metadata": {
        "id": "JSl88R0vzOJi",
        "colab_type": "text"
      },
      "source": [
        "one hot encode the labels to help the model learn better\n"
      ]
    },
    {
      "cell_type": "code",
      "metadata": {
        "id": "tZ-67HBiyypP",
        "colab_type": "code",
        "colab": {}
      },
      "source": [
        "from keras.utils import to_categorical\n",
        "nos_label = 10\n",
        "label_train = to_categorical(label_train,nos_label)\n",
        "label_val =to_categorical(label_val,nos_label)\n",
        "test_label =to_categorical(test_label,nos_label)"
      ],
      "execution_count": 162,
      "outputs": []
    },
    {
      "cell_type": "code",
      "metadata": {
        "id": "F6omYhYNcsGu",
        "colab_type": "code",
        "colab": {}
      },
      "source": [
        ""
      ],
      "execution_count": 163,
      "outputs": []
    },
    {
      "cell_type": "code",
      "metadata": {
        "id": "pWmAW8uu0-Mx",
        "colab_type": "code",
        "colab": {
          "base_uri": "https://localhost:8080/",
          "height": 34
        },
        "outputId": "1d977dfa-3be1-45d5-e42b-1224c7b5da4e"
      },
      "source": [
        "test_label.shape"
      ],
      "execution_count": 136,
      "outputs": [
        {
          "output_type": "execute_result",
          "data": {
            "text/plain": [
              "(10000, 10)"
            ]
          },
          "metadata": {
            "tags": []
          },
          "execution_count": 136
        }
      ]
    },
    {
      "cell_type": "code",
      "metadata": {
        "id": "16iJIMIn8BMS",
        "colab_type": "code",
        "colab": {
          "base_uri": "https://localhost:8080/",
          "height": 34
        },
        "outputId": "9c11d549-024e-47e0-d916-71fe29ac254b"
      },
      "source": [
        "label_val.shape"
      ],
      "execution_count": 137,
      "outputs": [
        {
          "output_type": "execute_result",
          "data": {
            "text/plain": [
              "(10000, 10)"
            ]
          },
          "metadata": {
            "tags": []
          },
          "execution_count": 137
        }
      ]
    },
    {
      "cell_type": "markdown",
      "metadata": {
        "id": "REEpMTwp14lh",
        "colab_type": "text"
      },
      "source": [
        "Importing the components to build a sequential model"
      ]
    },
    {
      "cell_type": "code",
      "metadata": {
        "id": "haCASkc11Ala",
        "colab_type": "code",
        "colab": {}
      },
      "source": [
        "from keras.layers import Dense \n",
        "from keras.models import Sequential\n"
      ],
      "execution_count": 24,
      "outputs": []
    },
    {
      "cell_type": "code",
      "metadata": {
        "id": "6D7Qorhc13JY",
        "colab_type": "code",
        "colab": {
          "base_uri": "https://localhost:8080/",
          "height": 1000
        },
        "outputId": "ed84e6fc-8ec4-4649-cea7-93fd6c1510e4"
      },
      "source": [
        "model = Sequential()\n",
        "\n",
        "model.add(Dense(256, activation='relu' ,input_shape = (image_train.shape[1],)))\n",
        "model.add(Dense(128,activation=\"relu\"))\n",
        "model.add(Dense(nos_label, activation='softmax'))\n",
        "\n",
        "model.compile(optimizer='adam',loss = 'categorical_crossentropy' , metrics=['accuracy'])\n",
        "\n",
        "#creating a checkpoint to save the weights to my google drive\n",
        "checkpoint_path = \"/content/drive/My Drive/Colab Notebooks/saves/stageD1_keras/as.ckpt\"\n",
        "checkpoint_dir = os.path.dirname(checkpoint_path)\n",
        "\n",
        "cp_callback = tf.keras.callbacks.ModelCheckpoint(filepath=checkpoint_dir,save_weights_only=True, verbose=2)\n",
        "norm_model = model.fit(image_train,label_train, validation_data=(image_val,label_val), epochs=20, callbacks=[cp_callback] ,batch_size=1000)\n"
      ],
      "execution_count": 168,
      "outputs": [
        {
          "output_type": "stream",
          "text": [
            "Train on 50000 samples, validate on 10000 samples\n",
            "Epoch 1/20\n",
            "49000/50000 [============================>.] - ETA: 0s - loss: 0.6822 - acc: 0.8158\n",
            "Epoch 00001: saving model to /content/drive/My Drive/Colab Notebooks/saves/stageD1_keras\n",
            "50000/50000 [==============================] - 3s 58us/sample - loss: 0.6746 - acc: 0.8179 - val_loss: 0.2542 - val_acc: 0.9273\n",
            "Epoch 2/20\n",
            "49000/50000 [============================>.] - ETA: 0s - loss: 0.2376 - acc: 0.9313\n",
            "Epoch 00002: saving model to /content/drive/My Drive/Colab Notebooks/saves/stageD1_keras\n",
            "50000/50000 [==============================] - 2s 31us/sample - loss: 0.2369 - acc: 0.9315 - val_loss: 0.1857 - val_acc: 0.9478\n",
            "Epoch 3/20\n",
            "49000/50000 [============================>.] - ETA: 0s - loss: 0.1774 - acc: 0.9481\n",
            "Epoch 00003: saving model to /content/drive/My Drive/Colab Notebooks/saves/stageD1_keras\n",
            "50000/50000 [==============================] - 2s 31us/sample - loss: 0.1767 - acc: 0.9483 - val_loss: 0.1526 - val_acc: 0.9564\n",
            "Epoch 4/20\n",
            "49000/50000 [============================>.] - ETA: 0s - loss: 0.1387 - acc: 0.9597\n",
            "Epoch 00004: saving model to /content/drive/My Drive/Colab Notebooks/saves/stageD1_keras\n",
            "50000/50000 [==============================] - 2s 31us/sample - loss: 0.1384 - acc: 0.9597 - val_loss: 0.1291 - val_acc: 0.9626\n",
            "Epoch 5/20\n",
            "49000/50000 [============================>.] - ETA: 0s - loss: 0.1116 - acc: 0.9681\n",
            "Epoch 00005: saving model to /content/drive/My Drive/Colab Notebooks/saves/stageD1_keras\n",
            "50000/50000 [==============================] - 2s 31us/sample - loss: 0.1122 - acc: 0.9679 - val_loss: 0.1140 - val_acc: 0.9677\n",
            "Epoch 6/20\n",
            "50000/50000 [==============================] - ETA: 0s - loss: 0.0928 - acc: 0.9731\n",
            "Epoch 00006: saving model to /content/drive/My Drive/Colab Notebooks/saves/stageD1_keras\n",
            "50000/50000 [==============================] - 2s 32us/sample - loss: 0.0928 - acc: 0.9731 - val_loss: 0.1015 - val_acc: 0.9704\n",
            "Epoch 7/20\n",
            "49000/50000 [============================>.] - ETA: 0s - loss: 0.0782 - acc: 0.9775\n",
            "Epoch 00007: saving model to /content/drive/My Drive/Colab Notebooks/saves/stageD1_keras\n",
            "50000/50000 [==============================] - 2s 31us/sample - loss: 0.0778 - acc: 0.9776 - val_loss: 0.0960 - val_acc: 0.9715\n",
            "Epoch 8/20\n",
            "49000/50000 [============================>.] - ETA: 0s - loss: 0.0664 - acc: 0.9812\n",
            "Epoch 00008: saving model to /content/drive/My Drive/Colab Notebooks/saves/stageD1_keras\n",
            "50000/50000 [==============================] - 2s 32us/sample - loss: 0.0663 - acc: 0.9812 - val_loss: 0.0907 - val_acc: 0.9729\n",
            "Epoch 9/20\n",
            "49000/50000 [============================>.] - ETA: 0s - loss: 0.0555 - acc: 0.9849\n",
            "Epoch 00009: saving model to /content/drive/My Drive/Colab Notebooks/saves/stageD1_keras\n",
            "50000/50000 [==============================] - 2s 31us/sample - loss: 0.0560 - acc: 0.9847 - val_loss: 0.0841 - val_acc: 0.9753\n",
            "Epoch 10/20\n",
            "49000/50000 [============================>.] - ETA: 0s - loss: 0.0487 - acc: 0.9865\n",
            "Epoch 00010: saving model to /content/drive/My Drive/Colab Notebooks/saves/stageD1_keras\n",
            "50000/50000 [==============================] - 2s 31us/sample - loss: 0.0485 - acc: 0.9865 - val_loss: 0.0842 - val_acc: 0.9737\n",
            "Epoch 11/20\n",
            "49000/50000 [============================>.] - ETA: 0s - loss: 0.0422 - acc: 0.9885\n",
            "Epoch 00011: saving model to /content/drive/My Drive/Colab Notebooks/saves/stageD1_keras\n",
            "50000/50000 [==============================] - 2s 32us/sample - loss: 0.0422 - acc: 0.9885 - val_loss: 0.0809 - val_acc: 0.9756\n",
            "Epoch 12/20\n",
            "49000/50000 [============================>.] - ETA: 0s - loss: 0.0366 - acc: 0.9903\n",
            "Epoch 00012: saving model to /content/drive/My Drive/Colab Notebooks/saves/stageD1_keras\n",
            "50000/50000 [==============================] - 2s 31us/sample - loss: 0.0367 - acc: 0.9902 - val_loss: 0.0813 - val_acc: 0.9757\n",
            "Epoch 13/20\n",
            "49000/50000 [============================>.] - ETA: 0s - loss: 0.0322 - acc: 0.9914\n",
            "Epoch 00013: saving model to /content/drive/My Drive/Colab Notebooks/saves/stageD1_keras\n",
            "50000/50000 [==============================] - 2s 31us/sample - loss: 0.0322 - acc: 0.9914 - val_loss: 0.0773 - val_acc: 0.9754\n",
            "Epoch 14/20\n",
            "49000/50000 [============================>.] - ETA: 0s - loss: 0.0272 - acc: 0.9933\n",
            "Epoch 00014: saving model to /content/drive/My Drive/Colab Notebooks/saves/stageD1_keras\n",
            "50000/50000 [==============================] - 2s 31us/sample - loss: 0.0270 - acc: 0.9934 - val_loss: 0.0786 - val_acc: 0.9765\n",
            "Epoch 15/20\n",
            "49000/50000 [============================>.] - ETA: 0s - loss: 0.0253 - acc: 0.9934\n",
            "Epoch 00015: saving model to /content/drive/My Drive/Colab Notebooks/saves/stageD1_keras\n",
            "50000/50000 [==============================] - 2s 31us/sample - loss: 0.0253 - acc: 0.9935 - val_loss: 0.0819 - val_acc: 0.9766\n",
            "Epoch 16/20\n",
            "49000/50000 [============================>.] - ETA: 0s - loss: 0.0202 - acc: 0.9958\n",
            "Epoch 00016: saving model to /content/drive/My Drive/Colab Notebooks/saves/stageD1_keras\n",
            "50000/50000 [==============================] - 2s 31us/sample - loss: 0.0201 - acc: 0.9958 - val_loss: 0.0779 - val_acc: 0.9759\n",
            "Epoch 17/20\n",
            "49000/50000 [============================>.] - ETA: 0s - loss: 0.0179 - acc: 0.9961\n",
            "Epoch 00017: saving model to /content/drive/My Drive/Colab Notebooks/saves/stageD1_keras\n",
            "50000/50000 [==============================] - 2s 32us/sample - loss: 0.0183 - acc: 0.9960 - val_loss: 0.0775 - val_acc: 0.9771\n",
            "Epoch 18/20\n",
            "49000/50000 [============================>.] - ETA: 0s - loss: 0.0159 - acc: 0.9965\n",
            "Epoch 00018: saving model to /content/drive/My Drive/Colab Notebooks/saves/stageD1_keras\n",
            "50000/50000 [==============================] - 2s 32us/sample - loss: 0.0159 - acc: 0.9965 - val_loss: 0.0740 - val_acc: 0.9788\n",
            "Epoch 19/20\n",
            "49000/50000 [============================>.] - ETA: 0s - loss: 0.0125 - acc: 0.9979\n",
            "Epoch 00019: saving model to /content/drive/My Drive/Colab Notebooks/saves/stageD1_keras\n",
            "50000/50000 [==============================] - 2s 31us/sample - loss: 0.0125 - acc: 0.9979 - val_loss: 0.0739 - val_acc: 0.9777\n",
            "Epoch 20/20\n",
            "49000/50000 [============================>.] - ETA: 0s - loss: 0.0109 - acc: 0.9983\n",
            "Epoch 00020: saving model to /content/drive/My Drive/Colab Notebooks/saves/stageD1_keras\n",
            "50000/50000 [==============================] - 2s 31us/sample - loss: 0.0110 - acc: 0.9982 - val_loss: 0.0765 - val_acc: 0.9799\n"
          ],
          "name": "stdout"
        }
      ]
    },
    {
      "cell_type": "code",
      "metadata": {
        "id": "I-CkEFov2nAj",
        "colab_type": "code",
        "colab": {
          "base_uri": "https://localhost:8080/",
          "height": 51
        },
        "outputId": "81d45414-964a-490d-bc51-a8968bb46e76"
      },
      "source": [
        "test_loss,accuracy = model.evaluate(test_image, test_label)\n",
        "\n",
        "print('Test loss: {}'.format(test_loss))\n",
        "print('Test Accuracy: {}'.format(accuracy))"
      ],
      "execution_count": 169,
      "outputs": [
        {
          "output_type": "stream",
          "text": [
            "Test loss: 0.07284321913531458\n",
            "Test Accuracy: 0.9789999723434448\n"
          ],
          "name": "stdout"
        }
      ]
    },
    {
      "cell_type": "code",
      "metadata": {
        "id": "qWAmrwkf7-nN",
        "colab_type": "code",
        "colab": {
          "base_uri": "https://localhost:8080/",
          "height": 51
        },
        "outputId": "7fe4c46d-2add-4a78-a0fa-10615727e178"
      },
      "source": [
        "train_loss,t_accuracy = model.evaluate(image_train,label_train)\n",
        "\n",
        "print('Test loss: {}'.format(train_loss))\n",
        "print('Test Accuracy: {}'.format(t_accuracy))"
      ],
      "execution_count": 191,
      "outputs": [
        {
          "output_type": "stream",
          "text": [
            "Test loss: 0.008250757055571302\n",
            "Test Accuracy: 0.9991599917411804\n"
          ],
          "name": "stdout"
        }
      ]
    },
    {
      "cell_type": "code",
      "metadata": {
        "id": "8uCmL1OZhIx9",
        "colab_type": "code",
        "colab": {
          "base_uri": "https://localhost:8080/",
          "height": 51
        },
        "outputId": "4fd60d9a-e154-458f-aa43-f7e4a2bbab3f"
      },
      "source": [
        "val_loss,v_accuracy = model.evaluate(image_val,label_val)\n",
        "\n",
        "print('Test loss: {}'.format(val_loss))\n",
        "print('Test Accuracy: {}'.format(v_accuracy))"
      ],
      "execution_count": 192,
      "outputs": [
        {
          "output_type": "stream",
          "text": [
            "Test loss: 0.07649475144575117\n",
            "Test Accuracy: 0.9799000024795532\n"
          ],
          "name": "stdout"
        }
      ]
    },
    {
      "cell_type": "markdown",
      "metadata": {
        "id": "CxGPbpDbi-Nq",
        "colab_type": "text"
      },
      "source": [
        "Checking the validation loss against the training loss as it reduces with respect to epochs,\n",
        "As can be seen the validation isnt close to the training loss which implies overfitting"
      ]
    },
    {
      "cell_type": "code",
      "metadata": {
        "id": "f-onc_-D2s0g",
        "colab_type": "code",
        "colab": {
          "base_uri": "https://localhost:8080/",
          "height": 312
        },
        "outputId": "e6872aef-3f8c-43de-f31b-7c82bbbf307d"
      },
      "source": [
        "plt.figure()\n",
        "plt.plot(norm_model.history['loss'],'blue')\n",
        "plt.plot(norm_model.history['val_loss'],'red')\n",
        "plt.legend([\"Training loss\",\"Validation loss\"])\n",
        "plt.xlabel(\"Epochs\")\n",
        "plt.ylabel(\"Loss\")\n",
        "plt.title(\"Loss curves before regularization\")"
      ],
      "execution_count": 171,
      "outputs": [
        {
          "output_type": "execute_result",
          "data": {
            "text/plain": [
              "Text(0.5, 1.0, 'Loss curves before regularization')"
            ]
          },
          "metadata": {
            "tags": []
          },
          "execution_count": 171
        },
        {
          "output_type": "display_data",
          "data": {
            "image/png": "[encoded data removed]",
            "text/plain": [
              "<Figure size 432x288 with 1 Axes>"
            ]
          },
          "metadata": {
            "tags": [],
            "needs_background": "light"
          }
        }
      ]
    },
    {
      "cell_type": "markdown",
      "metadata": {
        "id": "z83E1t7tmcjU",
        "colab_type": "text"
      },
      "source": [
        "Redoing using another method of initializing it but adding a regularization factor called dropout to try and reduce overfitting "
      ]
    },
    {
      "cell_type": "code",
      "metadata": {
        "id": "SMhKPNKog8ty",
        "colab_type": "code",
        "colab": {}
      },
      "source": [
        "from keras.layers import Dropout\n",
        "reg_model = Sequential(\n",
        "    [\n",
        "     keras.Input(shape=(image_train.shape[1],) ),\n",
        "     Dense(256,activation='relu'),\n",
        "     Dropout(0.4),\n",
        "     Dense(128,activation='relu'),\n",
        "     Dropout(0.4),\n",
        "     Dense(nos_label,activation=\"softmax\")\n",
        "    ]\n",
        ")"
      ],
      "execution_count": 186,
      "outputs": []
    },
    {
      "cell_type": "code",
      "metadata": {
        "id": "0Fl54W1yj9Fs",
        "colab_type": "code",
        "colab": {
          "base_uri": "https://localhost:8080/",
          "height": 1000
        },
        "outputId": "afe0103d-18b3-473d-a295-134df71b1e4d"
      },
      "source": [
        "reg_model.compile(optimizer=\"adam\", loss =\"categorical_crossentropy\", metrics=[\"accuracy\"])\n",
        "checkpoint_path2 = \"/content/drive/My Drive/Colab Notebooks/saves/stageD1_keras1/as.ckpt\"\n",
        "checkpoint_dir2 = os.path.dirname(checkpoint_path)\n",
        "\n",
        "cp1_callback = tf.keras.callbacks.ModelCheckpoint(checkpoint_path2, save_weights_only=True,verbose=1)\n",
        "\n",
        "reg_dropout_model = reg_model.fit(image_train,label_train,validation_data=(image_val,label_val),callbacks=[cp1_callback],epochs=20,batch_size=1000)"
      ],
      "execution_count": 187,
      "outputs": [
        {
          "output_type": "stream",
          "text": [
            "Train on 50000 samples, validate on 10000 samples\n",
            "Epoch 1/20\n",
            "49000/50000 [============================>.] - ETA: 0s - loss: 0.9863 - acc: 0.6866\n",
            "Epoch 00001: saving model to /content/drive/My Drive/Colab Notebooks/saves/stageD1_keras1/as.ckpt\n",
            "50000/50000 [==============================] - 3s 66us/sample - loss: 0.9759 - acc: 0.6899 - val_loss: 0.3009 - val_acc: 0.9161\n",
            "Epoch 2/20\n",
            "49000/50000 [============================>.] - ETA: 0s - loss: 0.3853 - acc: 0.8867\n",
            "Epoch 00002: saving model to /content/drive/My Drive/Colab Notebooks/saves/stageD1_keras1/as.ckpt\n",
            "50000/50000 [==============================] - 2s 36us/sample - loss: 0.3842 - acc: 0.8872 - val_loss: 0.2051 - val_acc: 0.9413\n",
            "Epoch 3/20\n",
            "49000/50000 [============================>.] - ETA: 0s - loss: 0.2865 - acc: 0.9161\n",
            "Epoch 00003: saving model to /content/drive/My Drive/Colab Notebooks/saves/stageD1_keras1/as.ckpt\n",
            "50000/50000 [==============================] - 2s 37us/sample - loss: 0.2864 - acc: 0.9165 - val_loss: 0.1660 - val_acc: 0.9524\n",
            "Epoch 4/20\n",
            "49000/50000 [============================>.] - ETA: 0s - loss: 0.2381 - acc: 0.9306\n",
            "Epoch 00004: saving model to /content/drive/My Drive/Colab Notebooks/saves/stageD1_keras1/as.ckpt\n",
            "50000/50000 [==============================] - 2s 36us/sample - loss: 0.2373 - acc: 0.9309 - val_loss: 0.1391 - val_acc: 0.9601\n",
            "Epoch 5/20\n",
            "49000/50000 [============================>.] - ETA: 0s - loss: 0.2010 - acc: 0.9418\n",
            "Epoch 00005: saving model to /content/drive/My Drive/Colab Notebooks/saves/stageD1_keras1/as.ckpt\n",
            "50000/50000 [==============================] - 2s 36us/sample - loss: 0.2007 - acc: 0.9418 - val_loss: 0.1225 - val_acc: 0.9647\n",
            "Epoch 6/20\n",
            "49000/50000 [============================>.] - ETA: 0s - loss: 0.1753 - acc: 0.9482\n",
            "Epoch 00006: saving model to /content/drive/My Drive/Colab Notebooks/saves/stageD1_keras1/as.ckpt\n",
            "50000/50000 [==============================] - 2s 37us/sample - loss: 0.1752 - acc: 0.9482 - val_loss: 0.1110 - val_acc: 0.9680\n",
            "Epoch 7/20\n",
            "50000/50000 [==============================] - ETA: 0s - loss: 0.1574 - acc: 0.9542\n",
            "Epoch 00007: saving model to /content/drive/My Drive/Colab Notebooks/saves/stageD1_keras1/as.ckpt\n",
            "50000/50000 [==============================] - 2s 38us/sample - loss: 0.1574 - acc: 0.9542 - val_loss: 0.1010 - val_acc: 0.9698\n",
            "Epoch 8/20\n",
            "49000/50000 [============================>.] - ETA: 0s - loss: 0.1430 - acc: 0.9577\n",
            "Epoch 00008: saving model to /content/drive/My Drive/Colab Notebooks/saves/stageD1_keras1/as.ckpt\n",
            "50000/50000 [==============================] - 2s 37us/sample - loss: 0.1431 - acc: 0.9577 - val_loss: 0.0948 - val_acc: 0.9720\n",
            "Epoch 9/20\n",
            "49000/50000 [============================>.] - ETA: 0s - loss: 0.1333 - acc: 0.9603\n",
            "Epoch 00009: saving model to /content/drive/My Drive/Colab Notebooks/saves/stageD1_keras1/as.ckpt\n",
            "50000/50000 [==============================] - 2s 37us/sample - loss: 0.1337 - acc: 0.9603 - val_loss: 0.0916 - val_acc: 0.9734\n",
            "Epoch 10/20\n",
            "49000/50000 [============================>.] - ETA: 0s - loss: 0.1240 - acc: 0.9637\n",
            "Epoch 00010: saving model to /content/drive/My Drive/Colab Notebooks/saves/stageD1_keras1/as.ckpt\n",
            "50000/50000 [==============================] - 2s 37us/sample - loss: 0.1235 - acc: 0.9639 - val_loss: 0.0823 - val_acc: 0.9761\n",
            "Epoch 11/20\n",
            "49000/50000 [============================>.] - ETA: 0s - loss: 0.1130 - acc: 0.9671\n",
            "Epoch 00011: saving model to /content/drive/My Drive/Colab Notebooks/saves/stageD1_keras1/as.ckpt\n",
            "50000/50000 [==============================] - 2s 36us/sample - loss: 0.1127 - acc: 0.9672 - val_loss: 0.0820 - val_acc: 0.9758\n",
            "Epoch 12/20\n",
            "49000/50000 [============================>.] - ETA: 0s - loss: 0.1054 - acc: 0.9688\n",
            "Epoch 00012: saving model to /content/drive/My Drive/Colab Notebooks/saves/stageD1_keras1/as.ckpt\n",
            "50000/50000 [==============================] - 2s 37us/sample - loss: 0.1051 - acc: 0.9689 - val_loss: 0.0789 - val_acc: 0.9765\n",
            "Epoch 13/20\n",
            "49000/50000 [============================>.] - ETA: 0s - loss: 0.1021 - acc: 0.9689\n",
            "Epoch 00013: saving model to /content/drive/My Drive/Colab Notebooks/saves/stageD1_keras1/as.ckpt\n",
            "50000/50000 [==============================] - 2s 37us/sample - loss: 0.1022 - acc: 0.9687 - val_loss: 0.0789 - val_acc: 0.9766\n",
            "Epoch 14/20\n",
            "49000/50000 [============================>.] - ETA: 0s - loss: 0.0950 - acc: 0.9716\n",
            "Epoch 00014: saving model to /content/drive/My Drive/Colab Notebooks/saves/stageD1_keras1/as.ckpt\n",
            "50000/50000 [==============================] - 2s 37us/sample - loss: 0.0946 - acc: 0.9716 - val_loss: 0.0759 - val_acc: 0.9777\n",
            "Epoch 15/20\n",
            "49000/50000 [============================>.] - ETA: 0s - loss: 0.0870 - acc: 0.9735\n",
            "Epoch 00015: saving model to /content/drive/My Drive/Colab Notebooks/saves/stageD1_keras1/as.ckpt\n",
            "50000/50000 [==============================] - 2s 37us/sample - loss: 0.0872 - acc: 0.9735 - val_loss: 0.0736 - val_acc: 0.9783\n",
            "Epoch 16/20\n",
            "49000/50000 [============================>.] - ETA: 0s - loss: 0.0836 - acc: 0.9751\n",
            "Epoch 00016: saving model to /content/drive/My Drive/Colab Notebooks/saves/stageD1_keras1/as.ckpt\n",
            "50000/50000 [==============================] - 2s 37us/sample - loss: 0.0836 - acc: 0.9751 - val_loss: 0.0747 - val_acc: 0.9781\n",
            "Epoch 17/20\n",
            "49000/50000 [============================>.] - ETA: 0s - loss: 0.0794 - acc: 0.9755\n",
            "Epoch 00017: saving model to /content/drive/My Drive/Colab Notebooks/saves/stageD1_keras1/as.ckpt\n",
            "50000/50000 [==============================] - 2s 36us/sample - loss: 0.0794 - acc: 0.9755 - val_loss: 0.0711 - val_acc: 0.9791\n",
            "Epoch 18/20\n",
            "49000/50000 [============================>.] - ETA: 0s - loss: 0.0751 - acc: 0.9771\n",
            "Epoch 00018: saving model to /content/drive/My Drive/Colab Notebooks/saves/stageD1_keras1/as.ckpt\n",
            "50000/50000 [==============================] - 2s 37us/sample - loss: 0.0747 - acc: 0.9773 - val_loss: 0.0708 - val_acc: 0.9791\n",
            "Epoch 19/20\n",
            "49000/50000 [============================>.] - ETA: 0s - loss: 0.0718 - acc: 0.9777\n",
            "Epoch 00019: saving model to /content/drive/My Drive/Colab Notebooks/saves/stageD1_keras1/as.ckpt\n",
            "50000/50000 [==============================] - 2s 36us/sample - loss: 0.0714 - acc: 0.9778 - val_loss: 0.0684 - val_acc: 0.9799\n",
            "Epoch 20/20\n",
            "49000/50000 [============================>.] - ETA: 0s - loss: 0.0672 - acc: 0.9789\n",
            "Epoch 00020: saving model to /content/drive/My Drive/Colab Notebooks/saves/stageD1_keras1/as.ckpt\n",
            "50000/50000 [==============================] - 2s 37us/sample - loss: 0.0673 - acc: 0.9788 - val_loss: 0.0668 - val_acc: 0.9796\n"
          ],
          "name": "stdout"
        }
      ]
    },
    {
      "cell_type": "code",
      "metadata": {
        "id": "7bONgWD0pfsC",
        "colab_type": "code",
        "colab": {
          "base_uri": "https://localhost:8080/",
          "height": 51
        },
        "outputId": "582494c2-9472-4074-9b7c-7b2251ca056e"
      },
      "source": [
        "t,a = reg_model.evaluate(test_image, test_label)\n",
        "\n",
        "print('Test loss: {}'.format(t))\n",
        "print('Test Accuracy: {}'.format(a))"
      ],
      "execution_count": 189,
      "outputs": [
        {
          "output_type": "stream",
          "text": [
            "Test loss: 0.07024359134443803\n",
            "Test Accuracy: 0.9800000190734863\n"
          ],
          "name": "stdout"
        }
      ]
    },
    {
      "cell_type": "code",
      "metadata": {
        "id": "MQdqc_NzstoQ",
        "colab_type": "code",
        "colab": {
          "base_uri": "https://localhost:8080/",
          "height": 34
        },
        "outputId": "6dc56aa2-e528-4b53-b376-ff9d33650fde"
      },
      "source": [
        "test_label.shape"
      ],
      "execution_count": 81,
      "outputs": [
        {
          "output_type": "execute_result",
          "data": {
            "text/plain": [
              "(10000, 10)"
            ]
          },
          "metadata": {
            "tags": []
          },
          "execution_count": 81
        }
      ]
    },
    {
      "cell_type": "code",
      "metadata": {
        "id": "AhbBubTEuIPI",
        "colab_type": "code",
        "colab": {
          "base_uri": "https://localhost:8080/",
          "height": 312
        },
        "outputId": "0f981e65-ac38-4c5b-ac9d-1cf055d2c9a9"
      },
      "source": [
        "plt.figure()\n",
        "plt.plot(reg_dropout_model.history['loss'],'blue')\n",
        "plt.plot(reg_dropout_model.history[\"val_loss\"],\"red\")\n",
        "plt.legend([\"Training loss\",\"Validation loss\"])\n",
        "plt.xlabel('Epochs')\n",
        "plt.ylabel('Loss')\n",
        "plt.title('losses after regularization')"
      ],
      "execution_count": 190,
      "outputs": [
        {
          "output_type": "execute_result",
          "data": {
            "text/plain": [
              "Text(0.5, 1.0, 'losses after regularization')"
            ]
          },
          "metadata": {
            "tags": []
          },
          "execution_count": 190
        },
        {
          "output_type": "display_data",
          "data": {
            "image/png": "[encoded data removed]",
            "text/plain": [
              "<Figure size 432x288 with 1 Axes>"
            ]
          },
          "metadata": {
            "tags": [],
            "needs_background": "light"
          }
        }
      ]
    },
    {
      "cell_type": "code",
      "metadata": {
        "id": "U3lofl9-vRYD",
        "colab_type": "code",
        "colab": {}
      },
      "source": [
        ""
      ],
      "execution_count": null,
      "outputs": []
    }
  ]
}